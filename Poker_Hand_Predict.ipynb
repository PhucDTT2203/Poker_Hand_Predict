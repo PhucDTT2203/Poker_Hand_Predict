{
 "cells": [
  {
   "cell_type": "code",
   "execution_count": 15,
   "id": "dc56e455-58d6-43ae-a8e8-2cd0b302e9e9",
   "metadata": {},
   "outputs": [],
   "source": [
    "import pandas as pd\n",
    "import matplotlib.pyplot as plt\n",
    "from sklearn.preprocessing import StandardScaler"
   ]
  },
  {
   "cell_type": "code",
   "execution_count": 16,
   "id": "0b831217-874a-45fa-ab45-5094b5fe69d3",
   "metadata": {},
   "outputs": [
    {
     "data": {
      "text/html": [
       "<div>\n",
       "<style scoped>\n",
       "    .dataframe tbody tr th:only-of-type {\n",
       "        vertical-align: middle;\n",
       "    }\n",
       "\n",
       "    .dataframe tbody tr th {\n",
       "        vertical-align: top;\n",
       "    }\n",
       "\n",
       "    .dataframe thead th {\n",
       "        text-align: right;\n",
       "    }\n",
       "</style>\n",
       "<table border=\"1\" class=\"dataframe\">\n",
       "  <thead>\n",
       "    <tr style=\"text-align: right;\">\n",
       "      <th></th>\n",
       "      <th>Suit of card #1</th>\n",
       "      <th>Rank of card #1</th>\n",
       "      <th>Suit of card #2</th>\n",
       "      <th>Rank of card #2</th>\n",
       "      <th>Suit of card #3</th>\n",
       "      <th>Rank of card #3</th>\n",
       "      <th>Suit of card #4</th>\n",
       "      <th>Rank of card #4</th>\n",
       "      <th>Suit of card #5</th>\n",
       "      <th>Rank of card #5</th>\n",
       "      <th>Poker Hand</th>\n",
       "    </tr>\n",
       "  </thead>\n",
       "  <tbody>\n",
       "    <tr>\n",
       "      <th>0</th>\n",
       "      <td>1</td>\n",
       "      <td>10</td>\n",
       "      <td>1</td>\n",
       "      <td>11</td>\n",
       "      <td>1</td>\n",
       "      <td>13</td>\n",
       "      <td>1</td>\n",
       "      <td>12</td>\n",
       "      <td>1</td>\n",
       "      <td>1</td>\n",
       "      <td>9</td>\n",
       "    </tr>\n",
       "    <tr>\n",
       "      <th>1</th>\n",
       "      <td>2</td>\n",
       "      <td>11</td>\n",
       "      <td>2</td>\n",
       "      <td>13</td>\n",
       "      <td>2</td>\n",
       "      <td>10</td>\n",
       "      <td>2</td>\n",
       "      <td>12</td>\n",
       "      <td>2</td>\n",
       "      <td>1</td>\n",
       "      <td>9</td>\n",
       "    </tr>\n",
       "    <tr>\n",
       "      <th>2</th>\n",
       "      <td>3</td>\n",
       "      <td>12</td>\n",
       "      <td>3</td>\n",
       "      <td>11</td>\n",
       "      <td>3</td>\n",
       "      <td>13</td>\n",
       "      <td>3</td>\n",
       "      <td>10</td>\n",
       "      <td>3</td>\n",
       "      <td>1</td>\n",
       "      <td>9</td>\n",
       "    </tr>\n",
       "    <tr>\n",
       "      <th>3</th>\n",
       "      <td>4</td>\n",
       "      <td>10</td>\n",
       "      <td>4</td>\n",
       "      <td>11</td>\n",
       "      <td>4</td>\n",
       "      <td>1</td>\n",
       "      <td>4</td>\n",
       "      <td>13</td>\n",
       "      <td>4</td>\n",
       "      <td>12</td>\n",
       "      <td>9</td>\n",
       "    </tr>\n",
       "    <tr>\n",
       "      <th>4</th>\n",
       "      <td>4</td>\n",
       "      <td>1</td>\n",
       "      <td>4</td>\n",
       "      <td>13</td>\n",
       "      <td>4</td>\n",
       "      <td>12</td>\n",
       "      <td>4</td>\n",
       "      <td>11</td>\n",
       "      <td>4</td>\n",
       "      <td>10</td>\n",
       "      <td>9</td>\n",
       "    </tr>\n",
       "    <tr>\n",
       "      <th>...</th>\n",
       "      <td>...</td>\n",
       "      <td>...</td>\n",
       "      <td>...</td>\n",
       "      <td>...</td>\n",
       "      <td>...</td>\n",
       "      <td>...</td>\n",
       "      <td>...</td>\n",
       "      <td>...</td>\n",
       "      <td>...</td>\n",
       "      <td>...</td>\n",
       "      <td>...</td>\n",
       "    </tr>\n",
       "    <tr>\n",
       "      <th>25005</th>\n",
       "      <td>3</td>\n",
       "      <td>9</td>\n",
       "      <td>2</td>\n",
       "      <td>6</td>\n",
       "      <td>4</td>\n",
       "      <td>11</td>\n",
       "      <td>4</td>\n",
       "      <td>12</td>\n",
       "      <td>2</td>\n",
       "      <td>4</td>\n",
       "      <td>0</td>\n",
       "    </tr>\n",
       "    <tr>\n",
       "      <th>25006</th>\n",
       "      <td>4</td>\n",
       "      <td>1</td>\n",
       "      <td>4</td>\n",
       "      <td>10</td>\n",
       "      <td>3</td>\n",
       "      <td>13</td>\n",
       "      <td>3</td>\n",
       "      <td>4</td>\n",
       "      <td>1</td>\n",
       "      <td>10</td>\n",
       "      <td>1</td>\n",
       "    </tr>\n",
       "    <tr>\n",
       "      <th>25007</th>\n",
       "      <td>2</td>\n",
       "      <td>1</td>\n",
       "      <td>2</td>\n",
       "      <td>10</td>\n",
       "      <td>4</td>\n",
       "      <td>4</td>\n",
       "      <td>4</td>\n",
       "      <td>1</td>\n",
       "      <td>4</td>\n",
       "      <td>13</td>\n",
       "      <td>1</td>\n",
       "    </tr>\n",
       "    <tr>\n",
       "      <th>25008</th>\n",
       "      <td>2</td>\n",
       "      <td>12</td>\n",
       "      <td>4</td>\n",
       "      <td>3</td>\n",
       "      <td>1</td>\n",
       "      <td>10</td>\n",
       "      <td>1</td>\n",
       "      <td>12</td>\n",
       "      <td>4</td>\n",
       "      <td>9</td>\n",
       "      <td>1</td>\n",
       "    </tr>\n",
       "    <tr>\n",
       "      <th>25009</th>\n",
       "      <td>1</td>\n",
       "      <td>7</td>\n",
       "      <td>3</td>\n",
       "      <td>11</td>\n",
       "      <td>3</td>\n",
       "      <td>3</td>\n",
       "      <td>4</td>\n",
       "      <td>8</td>\n",
       "      <td>3</td>\n",
       "      <td>7</td>\n",
       "      <td>1</td>\n",
       "    </tr>\n",
       "  </tbody>\n",
       "</table>\n",
       "<p>25010 rows × 11 columns</p>\n",
       "</div>"
      ],
      "text/plain": [
       "       Suit of card #1  Rank of card #1  Suit of card #2  Rank of card #2  \\\n",
       "0                    1               10                1               11   \n",
       "1                    2               11                2               13   \n",
       "2                    3               12                3               11   \n",
       "3                    4               10                4               11   \n",
       "4                    4                1                4               13   \n",
       "...                ...              ...              ...              ...   \n",
       "25005                3                9                2                6   \n",
       "25006                4                1                4               10   \n",
       "25007                2                1                2               10   \n",
       "25008                2               12                4                3   \n",
       "25009                1                7                3               11   \n",
       "\n",
       "       Suit of card #3  Rank of card #3  Suit of card #4  Rank of card #4  \\\n",
       "0                    1               13                1               12   \n",
       "1                    2               10                2               12   \n",
       "2                    3               13                3               10   \n",
       "3                    4                1                4               13   \n",
       "4                    4               12                4               11   \n",
       "...                ...              ...              ...              ...   \n",
       "25005                4               11                4               12   \n",
       "25006                3               13                3                4   \n",
       "25007                4                4                4                1   \n",
       "25008                1               10                1               12   \n",
       "25009                3                3                4                8   \n",
       "\n",
       "       Suit of card #5  Rank of card #5  Poker Hand  \n",
       "0                    1                1           9  \n",
       "1                    2                1           9  \n",
       "2                    3                1           9  \n",
       "3                    4               12           9  \n",
       "4                    4               10           9  \n",
       "...                ...              ...         ...  \n",
       "25005                2                4           0  \n",
       "25006                1               10           1  \n",
       "25007                4               13           1  \n",
       "25008                4                9           1  \n",
       "25009                3                7           1  \n",
       "\n",
       "[25010 rows x 11 columns]"
      ]
     },
     "execution_count": 16,
     "metadata": {},
     "output_type": "execute_result"
    }
   ],
   "source": [
    "#Load Train Data\n",
    "dftrain = pd.read_csv('poker-hand-training-true.data', header = None)\n",
    "dftrain_col = [\"Suit of card #1\",\"Rank of card #1\",\"Suit of card #2\",\"Rank of card #2\",\"Suit of card #3\",\"Rank of card #3\",\"Suit of card #4\",\"Rank of card #4\",\"Suit of card #5\",\"Rank of card #5\",\"Poker Hand\"]\n",
    "for i, col in enumerate(dftrain.columns):\n",
    "    dftrain.rename(columns={col: dftrain_col[i]}, inplace=True)\n",
    "    \n",
    "dftrain"
   ]
  },
  {
   "cell_type": "code",
   "execution_count": 17,
   "id": "00d97864-12c7-4110-b015-7fb729ce805d",
   "metadata": {},
   "outputs": [],
   "source": [
    "#Load Test Data\n",
    "dftest = pd.read_csv('poker-hand-testing.data', header = None)\n",
    "dftrain_col = [\"Suit of card #1\",\"Rank of card #1\",\"Suit of card #2\",\"Rank of card #2\",\"Suit of card #3\",\"Rank of card #3\",\"Suit of card #4\",\"Rank of card #4\",\"Suit of card #5\",\"Rank of card 5\",\"Poker Hand\"]\n",
    "for i, col in enumerate(dftest.columns):\n",
    "    dftest.rename(columns={col: dftrain_col[i]}, inplace=True)"
   ]
  },
  {
   "cell_type": "code",
   "execution_count": 18,
   "id": "72f3fa77-13c5-4959-bd24-6d89940beb9f",
   "metadata": {},
   "outputs": [
    {
     "data": {
      "text/html": [
       "<div>\n",
       "<style scoped>\n",
       "    .dataframe tbody tr th:only-of-type {\n",
       "        vertical-align: middle;\n",
       "    }\n",
       "\n",
       "    .dataframe tbody tr th {\n",
       "        vertical-align: top;\n",
       "    }\n",
       "\n",
       "    .dataframe thead th {\n",
       "        text-align: right;\n",
       "    }\n",
       "</style>\n",
       "<table border=\"1\" class=\"dataframe\">\n",
       "  <thead>\n",
       "    <tr style=\"text-align: right;\">\n",
       "      <th></th>\n",
       "      <th>Suit of card #1</th>\n",
       "      <th>Rank of card #1</th>\n",
       "      <th>Suit of card #2</th>\n",
       "      <th>Rank of card #2</th>\n",
       "      <th>Suit of card #3</th>\n",
       "      <th>Rank of card #3</th>\n",
       "      <th>Suit of card #4</th>\n",
       "      <th>Rank of card #4</th>\n",
       "      <th>Suit of card #5</th>\n",
       "      <th>Rank of card #5</th>\n",
       "      <th>Poker Hand</th>\n",
       "    </tr>\n",
       "  </thead>\n",
       "  <tbody>\n",
       "    <tr>\n",
       "      <th>count</th>\n",
       "      <td>25010.000000</td>\n",
       "      <td>25010.000000</td>\n",
       "      <td>25010.000000</td>\n",
       "      <td>25010.000000</td>\n",
       "      <td>25010.000000</td>\n",
       "      <td>25010.000000</td>\n",
       "      <td>25010.000000</td>\n",
       "      <td>25010.000000</td>\n",
       "      <td>25010.000000</td>\n",
       "      <td>25010.000000</td>\n",
       "      <td>25010.000000</td>\n",
       "    </tr>\n",
       "    <tr>\n",
       "      <th>mean</th>\n",
       "      <td>2.508756</td>\n",
       "      <td>6.995242</td>\n",
       "      <td>2.497721</td>\n",
       "      <td>7.014194</td>\n",
       "      <td>2.510236</td>\n",
       "      <td>7.014154</td>\n",
       "      <td>2.495922</td>\n",
       "      <td>6.942463</td>\n",
       "      <td>2.497321</td>\n",
       "      <td>6.962735</td>\n",
       "      <td>0.621152</td>\n",
       "    </tr>\n",
       "    <tr>\n",
       "      <th>std</th>\n",
       "      <td>1.116483</td>\n",
       "      <td>3.749805</td>\n",
       "      <td>1.121767</td>\n",
       "      <td>3.766974</td>\n",
       "      <td>1.123148</td>\n",
       "      <td>3.744974</td>\n",
       "      <td>1.116009</td>\n",
       "      <td>3.747147</td>\n",
       "      <td>1.118732</td>\n",
       "      <td>3.741579</td>\n",
       "      <td>0.788361</td>\n",
       "    </tr>\n",
       "    <tr>\n",
       "      <th>min</th>\n",
       "      <td>1.000000</td>\n",
       "      <td>1.000000</td>\n",
       "      <td>1.000000</td>\n",
       "      <td>1.000000</td>\n",
       "      <td>1.000000</td>\n",
       "      <td>1.000000</td>\n",
       "      <td>1.000000</td>\n",
       "      <td>1.000000</td>\n",
       "      <td>1.000000</td>\n",
       "      <td>1.000000</td>\n",
       "      <td>0.000000</td>\n",
       "    </tr>\n",
       "    <tr>\n",
       "      <th>25%</th>\n",
       "      <td>2.000000</td>\n",
       "      <td>4.000000</td>\n",
       "      <td>1.000000</td>\n",
       "      <td>4.000000</td>\n",
       "      <td>2.000000</td>\n",
       "      <td>4.000000</td>\n",
       "      <td>1.000000</td>\n",
       "      <td>4.000000</td>\n",
       "      <td>1.000000</td>\n",
       "      <td>4.000000</td>\n",
       "      <td>0.000000</td>\n",
       "    </tr>\n",
       "    <tr>\n",
       "      <th>50%</th>\n",
       "      <td>3.000000</td>\n",
       "      <td>7.000000</td>\n",
       "      <td>2.000000</td>\n",
       "      <td>7.000000</td>\n",
       "      <td>3.000000</td>\n",
       "      <td>7.000000</td>\n",
       "      <td>2.000000</td>\n",
       "      <td>7.000000</td>\n",
       "      <td>3.000000</td>\n",
       "      <td>7.000000</td>\n",
       "      <td>1.000000</td>\n",
       "    </tr>\n",
       "    <tr>\n",
       "      <th>75%</th>\n",
       "      <td>4.000000</td>\n",
       "      <td>10.000000</td>\n",
       "      <td>4.000000</td>\n",
       "      <td>10.000000</td>\n",
       "      <td>4.000000</td>\n",
       "      <td>10.000000</td>\n",
       "      <td>3.000000</td>\n",
       "      <td>10.000000</td>\n",
       "      <td>3.000000</td>\n",
       "      <td>10.000000</td>\n",
       "      <td>1.000000</td>\n",
       "    </tr>\n",
       "    <tr>\n",
       "      <th>max</th>\n",
       "      <td>4.000000</td>\n",
       "      <td>13.000000</td>\n",
       "      <td>4.000000</td>\n",
       "      <td>13.000000</td>\n",
       "      <td>4.000000</td>\n",
       "      <td>13.000000</td>\n",
       "      <td>4.000000</td>\n",
       "      <td>13.000000</td>\n",
       "      <td>4.000000</td>\n",
       "      <td>13.000000</td>\n",
       "      <td>9.000000</td>\n",
       "    </tr>\n",
       "  </tbody>\n",
       "</table>\n",
       "</div>"
      ],
      "text/plain": [
       "       Suit of card #1  Rank of card #1  Suit of card #2  Rank of card #2  \\\n",
       "count     25010.000000     25010.000000     25010.000000     25010.000000   \n",
       "mean          2.508756         6.995242         2.497721         7.014194   \n",
       "std           1.116483         3.749805         1.121767         3.766974   \n",
       "min           1.000000         1.000000         1.000000         1.000000   \n",
       "25%           2.000000         4.000000         1.000000         4.000000   \n",
       "50%           3.000000         7.000000         2.000000         7.000000   \n",
       "75%           4.000000        10.000000         4.000000        10.000000   \n",
       "max           4.000000        13.000000         4.000000        13.000000   \n",
       "\n",
       "       Suit of card #3  Rank of card #3  Suit of card #4  Rank of card #4  \\\n",
       "count     25010.000000     25010.000000     25010.000000     25010.000000   \n",
       "mean          2.510236         7.014154         2.495922         6.942463   \n",
       "std           1.123148         3.744974         1.116009         3.747147   \n",
       "min           1.000000         1.000000         1.000000         1.000000   \n",
       "25%           2.000000         4.000000         1.000000         4.000000   \n",
       "50%           3.000000         7.000000         2.000000         7.000000   \n",
       "75%           4.000000        10.000000         3.000000        10.000000   \n",
       "max           4.000000        13.000000         4.000000        13.000000   \n",
       "\n",
       "       Suit of card #5  Rank of card #5    Poker Hand  \n",
       "count     25010.000000     25010.000000  25010.000000  \n",
       "mean          2.497321         6.962735      0.621152  \n",
       "std           1.118732         3.741579      0.788361  \n",
       "min           1.000000         1.000000      0.000000  \n",
       "25%           1.000000         4.000000      0.000000  \n",
       "50%           3.000000         7.000000      1.000000  \n",
       "75%           3.000000        10.000000      1.000000  \n",
       "max           4.000000        13.000000      9.000000  "
      ]
     },
     "execution_count": 18,
     "metadata": {},
     "output_type": "execute_result"
    }
   ],
   "source": [
    "dftrain.describe()"
   ]
  },
  {
   "cell_type": "code",
   "execution_count": 19,
   "id": "6efe8499-24ee-4a0d-ab4e-0b4f440a0ffa",
   "metadata": {},
   "outputs": [
    {
     "data": {
      "text/plain": [
       "Suit of card #1    0\n",
       "Rank of card #1    0\n",
       "Suit of card #2    0\n",
       "Rank of card #2    0\n",
       "Suit of card #3    0\n",
       "Rank of card #3    0\n",
       "Suit of card #4    0\n",
       "Rank of card #4    0\n",
       "Suit of card #5    0\n",
       "Rank of card #5    0\n",
       "Poker Hand         0\n",
       "dtype: int64"
      ]
     },
     "execution_count": 19,
     "metadata": {},
     "output_type": "execute_result"
    }
   ],
   "source": [
    "dftrain.isnull().sum()"
   ]
  },
  {
   "cell_type": "code",
   "execution_count": 20,
   "id": "bb7793b2-6420-494f-b208-fec325aac9a1",
   "metadata": {},
   "outputs": [
    {
     "name": "stdout",
     "output_type": "stream",
     "text": [
      "       Suit of card #1  Rank of card #1  Suit of card #2  Rank of card #2  \\\n",
      "11914                3               12                3                2   \n",
      "12050                4                2                2                5   \n",
      "\n",
      "       Suit of card #3  Rank of card #3  Suit of card #4  Rank of card #4  \\\n",
      "11914                2                8                1                2   \n",
      "12050                4                9                2                7   \n",
      "\n",
      "       Suit of card #5  Rank of card #5  Poker Hand  \n",
      "11914                2                3           1  \n",
      "12050                2                2           1  \n"
     ]
    }
   ],
   "source": [
    "#Check Duplicate\n",
    "print(dftrain[dftrain.duplicated()])"
   ]
  },
  {
   "cell_type": "code",
   "execution_count": 21,
   "id": "12130001-63d3-4070-b1d3-6730b2023224",
   "metadata": {},
   "outputs": [
    {
     "data": {
      "text/plain": [
       "25010"
      ]
     },
     "execution_count": 21,
     "metadata": {},
     "output_type": "execute_result"
    }
   ],
   "source": [
    "#Before Removeing\n",
    "dftrain.value_counts().sum()"
   ]
  },
  {
   "cell_type": "code",
   "execution_count": 22,
   "id": "bc92dbc3-ce90-46a0-9bb0-8f317ab3a558",
   "metadata": {},
   "outputs": [
    {
     "data": {
      "text/plain": [
       "25008"
      ]
     },
     "execution_count": 22,
     "metadata": {},
     "output_type": "execute_result"
    }
   ],
   "source": [
    "#Remove Duplicate\n",
    "dftrain = dftrain.drop_duplicates()\n",
    "#After Removing\n",
    "dftrain.value_counts().sum()"
   ]
  },
  {
   "cell_type": "code",
   "execution_count": 23,
   "id": "2a315d82-396f-43fd-8406-0b7a597addc0",
   "metadata": {},
   "outputs": [
    {
     "data": {
      "text/plain": [
       "<Figure size 1000x600 with 0 Axes>"
      ]
     },
     "metadata": {},
     "output_type": "display_data"
    },
    {
     "data": {
      "image/png": "[encoded data removed]",
      "text/plain": [
       "<Figure size 2000x1500 with 12 Axes>"
      ]
     },
     "metadata": {},
     "output_type": "display_data"
    }
   ],
   "source": [
    "#Data Visualizing\n",
    "dfplot = dftrain.drop('Poker Hand',axis=1, inplace = False)\n",
    "plt.figure(figsize=(10, 6))\n",
    "dfplot.hist(bins=50, figsize=(20,15))\n",
    "plt.show()"
   ]
  },
  {
   "cell_type": "code",
   "execution_count": 24,
   "id": "34e88c71-97b6-4e9b-8bfc-f79af4897e17",
   "metadata": {},
   "outputs": [],
   "source": [
    "#Model Training Preparing\n",
    "X_train = dftrain.drop('Poker Hand',axis=1, inplace = False)\n",
    "y_train = dftrain['Poker Hand']\n",
    "X_test = dftest.drop('Poker Hand',axis=1, inplace = False)\n",
    "y_test = dftest['Poker Hand']\n"
   ]
  },
  {
   "cell_type": "code",
   "execution_count": 48,
   "id": "efc1e3a8-70b0-4487-87d4-842821196b76",
   "metadata": {},
   "outputs": [],
   "source": [
    "#Standardize\n",
    "sc = StandardScaler()\n",
    "X_train = sc.fit_transform(X_train)\n",
    "X_test = sc.fit_transform(X_test)\n"
   ]
  },
  {
   "cell_type": "code",
   "execution_count": 13,
   "id": "e7b8ecaf-25ac-435b-8b60-77457fec11ad",
   "metadata": {},
   "outputs": [
    {
     "name": "stderr",
     "output_type": "stream",
     "text": [
      "D:\\Python\\Lib\\site-packages\\sklearn\\linear_model\\_logistic.py:460: ConvergenceWarning: lbfgs failed to converge (status=1):\n",
      "STOP: TOTAL NO. of ITERATIONS REACHED LIMIT.\n",
      "\n",
      "Increase the number of iterations (max_iter) or scale the data as shown in:\n",
      "    https://scikit-learn.org/stable/modules/preprocessing.html\n",
      "Please also refer to the documentation for alternative solver options:\n",
      "    https://scikit-learn.org/stable/modules/linear_model.html#logistic-regression\n",
      "  n_iter_i = _check_optimize_result(\n"
     ]
    },
    {
     "data": {
      "text/plain": [
       "0.501209"
      ]
     },
     "execution_count": 13,
     "metadata": {},
     "output_type": "execute_result"
    }
   ],
   "source": [
    "from sklearn.linear_model import LogisticRegression\n",
    "lr = LogisticRegression()\n",
    "lr.fit(X_train, y_train)\n",
    "lr.score(X_test, y_test)\n"
   ]
  },
  {
   "cell_type": "code",
   "execution_count": 97,
   "id": "7abe2cf1-201b-47ca-860d-d64a1174888c",
   "metadata": {},
   "outputs": [
    {
     "data": {
      "text/plain": [
       "0.615474"
      ]
     },
     "execution_count": 97,
     "metadata": {},
     "output_type": "execute_result"
    }
   ],
   "source": [
    "from sklearn.ensemble import RandomForestClassifier\n",
    "rf = RandomForestClassifier()\n",
    "rf.fit(X_train, y_train)\n",
    "rf.score(X_test, y_test)"
   ]
  },
  {
   "cell_type": "code",
   "execution_count": 14,
   "id": "812286d9-e0ce-43ae-b700-473a5122ea4b",
   "metadata": {},
   "outputs": [
    {
     "data": {
      "text/plain": [
       "0.511974"
      ]
     },
     "execution_count": 14,
     "metadata": {},
     "output_type": "execute_result"
    }
   ],
   "source": [
    "from sklearn.neighbors import KNeighborsClassifier\n",
    "knc = KNeighborsClassifier()\n",
    "knc.fit(X_train, y_train)\n",
    "knc.score(X_test, y_test)"
   ]
  },
  {
   "cell_type": "code",
   "execution_count": 42,
   "id": "83664920-26ff-46a2-a2c2-606036ecbb95",
   "metadata": {},
   "outputs": [
    {
     "name": "stdout",
     "output_type": "stream",
     "text": [
      "Model: \"sequential_5\"\n",
      "_________________________________________________________________\n",
      " Layer (type)                Output Shape              Param #   \n",
      "=================================================================\n",
      " dense_12 (Dense)            (None, 128)               1408      \n",
      "                                                                 \n",
      " dense_13 (Dense)            (None, 64)                8256      \n",
      "                                                                 \n",
      " dense_14 (Dense)            (None, 10)                650       \n",
      "                                                                 \n",
      "=================================================================\n",
      "Total params: 10314 (40.29 KB)\n",
      "Trainable params: 10314 (40.29 KB)\n",
      "Non-trainable params: 0 (0.00 Byte)\n",
      "_________________________________________________________________\n"
     ]
    }
   ],
   "source": [
    "#building\n",
    "from tensorflow.keras import Sequential\n",
    "from tensorflow.keras.layers import Dense\n",
    "sq = Sequential()\n",
    "sq.add(Dense(128, activation='relu', input_shape=(X_train.shape[1],)))\n",
    "sq.add(Dense(64, activation='relu'))\n",
    "sq.add(Dense(10, activation='softmax'))\n",
    "\n",
    "sq.summary()"
   ]
  },
  {
   "cell_type": "code",
   "execution_count": 59,
   "id": "704c08a2-30e8-4812-a81f-0a13899a0e9d",
   "metadata": {},
   "outputs": [],
   "source": [
    "#Compile\n",
    "sq.compile(optimizer='Nadam', loss='sparse_categorical_crossentropy', metrics=['accuracy'])"
   ]
  },
  {
   "cell_type": "code",
   "execution_count": 63,
   "id": "96f51b44-9076-4f55-939d-f4f15e518144",
   "metadata": {},
   "outputs": [
    {
     "name": "stdout",
     "output_type": "stream",
     "text": [
      "Epoch 1/50\n",
      "782/782 [==============================] - 23s 30ms/step - loss: 0.2693 - accuracy: 0.9041 - val_loss: 0.3954 - val_accuracy: 0.8499\n",
      "Epoch 2/50\n",
      "782/782 [==============================] - 23s 29ms/step - loss: 0.2571 - accuracy: 0.9083 - val_loss: 0.3899 - val_accuracy: 0.8474\n",
      "Epoch 3/50\n",
      "782/782 [==============================] - 23s 29ms/step - loss: 0.2470 - accuracy: 0.9136 - val_loss: 0.3427 - val_accuracy: 0.8721\n",
      "Epoch 4/50\n",
      "782/782 [==============================] - 23s 29ms/step - loss: 0.2353 - accuracy: 0.9189 - val_loss: 0.3198 - val_accuracy: 0.8831\n",
      "Epoch 5/50\n",
      "782/782 [==============================] - 23s 29ms/step - loss: 0.2277 - accuracy: 0.9214 - val_loss: 0.3321 - val_accuracy: 0.8745\n",
      "Epoch 6/50\n",
      "782/782 [==============================] - 23s 29ms/step - loss: 0.2168 - accuracy: 0.9272 - val_loss: 0.3092 - val_accuracy: 0.8860\n",
      "Epoch 7/50\n",
      "782/782 [==============================] - 23s 30ms/step - loss: 0.2081 - accuracy: 0.9285 - val_loss: 0.2943 - val_accuracy: 0.8927\n",
      "Epoch 8/50\n",
      "782/782 [==============================] - 23s 29ms/step - loss: 0.2017 - accuracy: 0.9318 - val_loss: 0.2809 - val_accuracy: 0.9000\n",
      "Epoch 9/50\n",
      "782/782 [==============================] - 23s 30ms/step - loss: 0.1893 - accuracy: 0.9383 - val_loss: 0.2810 - val_accuracy: 0.9027\n",
      "Epoch 10/50\n",
      "782/782 [==============================] - 23s 30ms/step - loss: 0.1797 - accuracy: 0.9421 - val_loss: 0.2945 - val_accuracy: 0.8934\n",
      "Epoch 11/50\n",
      "782/782 [==============================] - 23s 30ms/step - loss: 0.1794 - accuracy: 0.9424 - val_loss: 0.2703 - val_accuracy: 0.9013\n",
      "Epoch 12/50\n",
      "782/782 [==============================] - 23s 30ms/step - loss: 0.1684 - accuracy: 0.9471 - val_loss: 0.2961 - val_accuracy: 0.8891\n",
      "Epoch 13/50\n",
      "782/782 [==============================] - 23s 30ms/step - loss: 0.1607 - accuracy: 0.9498 - val_loss: 0.2701 - val_accuracy: 0.9013\n",
      "Epoch 14/50\n",
      "782/782 [==============================] - 23s 30ms/step - loss: 0.1572 - accuracy: 0.9509 - val_loss: 0.2830 - val_accuracy: 0.8940\n",
      "Epoch 15/50\n",
      "782/782 [==============================] - 23s 29ms/step - loss: 0.1487 - accuracy: 0.9544 - val_loss: 0.2597 - val_accuracy: 0.9067\n",
      "Epoch 16/50\n",
      "782/782 [==============================] - 23s 30ms/step - loss: 0.1425 - accuracy: 0.9563 - val_loss: 0.2451 - val_accuracy: 0.9158\n",
      "Epoch 17/50\n",
      "782/782 [==============================] - 23s 29ms/step - loss: 0.1385 - accuracy: 0.9565 - val_loss: 0.2272 - val_accuracy: 0.9202\n",
      "Epoch 18/50\n",
      "782/782 [==============================] - 23s 30ms/step - loss: 0.1325 - accuracy: 0.9606 - val_loss: 0.2253 - val_accuracy: 0.9237\n",
      "Epoch 19/50\n",
      "782/782 [==============================] - 23s 30ms/step - loss: 0.1294 - accuracy: 0.9613 - val_loss: 0.2197 - val_accuracy: 0.9275\n",
      "Epoch 20/50\n",
      "782/782 [==============================] - 23s 30ms/step - loss: 0.1247 - accuracy: 0.9637 - val_loss: 0.2216 - val_accuracy: 0.9200\n",
      "Epoch 21/50\n",
      "782/782 [==============================] - 23s 30ms/step - loss: 0.1149 - accuracy: 0.9668 - val_loss: 0.2094 - val_accuracy: 0.9294\n",
      "Epoch 22/50\n",
      "782/782 [==============================] - 23s 30ms/step - loss: 0.1169 - accuracy: 0.9655 - val_loss: 0.1979 - val_accuracy: 0.9353\n",
      "Epoch 23/50\n",
      "782/782 [==============================] - 24s 30ms/step - loss: 0.1117 - accuracy: 0.9665 - val_loss: 0.1825 - val_accuracy: 0.9425\n",
      "Epoch 24/50\n",
      "782/782 [==============================] - 25s 31ms/step - loss: 0.1050 - accuracy: 0.9701 - val_loss: 0.1665 - val_accuracy: 0.9497\n",
      "Epoch 25/50\n",
      "782/782 [==============================] - 24s 31ms/step - loss: 0.1058 - accuracy: 0.9692 - val_loss: 0.1856 - val_accuracy: 0.9380\n",
      "Epoch 26/50\n",
      "782/782 [==============================] - 24s 31ms/step - loss: 0.1016 - accuracy: 0.9696 - val_loss: 0.1695 - val_accuracy: 0.9498\n",
      "Epoch 27/50\n",
      "782/782 [==============================] - 23s 30ms/step - loss: 0.0910 - accuracy: 0.9750 - val_loss: 0.1866 - val_accuracy: 0.9369\n",
      "Epoch 28/50\n",
      "782/782 [==============================] - -3576s -4579265us/step - loss: 0.0926 - accuracy: 0.9726 - val_loss: 0.1741 - val_accuracy: 0.9470\n",
      "Epoch 29/50\n",
      "782/782 [==============================] - 23s 30ms/step - loss: 0.0893 - accuracy: 0.9747 - val_loss: 0.1845 - val_accuracy: 0.9415\n",
      "Epoch 30/50\n",
      "782/782 [==============================] - 24s 31ms/step - loss: 0.0852 - accuracy: 0.9774 - val_loss: 0.1923 - val_accuracy: 0.9355\n",
      "Epoch 31/50\n",
      "782/782 [==============================] - 23s 29ms/step - loss: 0.0827 - accuracy: 0.9781 - val_loss: 0.1535 - val_accuracy: 0.9513\n",
      "Epoch 32/50\n",
      "782/782 [==============================] - 23s 30ms/step - loss: 0.0798 - accuracy: 0.9776 - val_loss: 0.1488 - val_accuracy: 0.9539\n",
      "Epoch 33/50\n",
      "782/782 [==============================] - 23s 30ms/step - loss: 0.0756 - accuracy: 0.9804 - val_loss: 0.1540 - val_accuracy: 0.9501\n",
      "Epoch 34/50\n",
      "782/782 [==============================] - 23s 30ms/step - loss: 0.0749 - accuracy: 0.9800 - val_loss: 0.1577 - val_accuracy: 0.9503\n",
      "Epoch 35/50\n",
      "782/782 [==============================] - 23s 30ms/step - loss: 0.0750 - accuracy: 0.9791 - val_loss: 0.1719 - val_accuracy: 0.9431\n",
      "Epoch 36/50\n",
      "782/782 [==============================] - 23s 29ms/step - loss: 0.0672 - accuracy: 0.9826 - val_loss: 0.1751 - val_accuracy: 0.9437\n",
      "Epoch 37/50\n",
      "782/782 [==============================] - 23s 30ms/step - loss: 0.0722 - accuracy: 0.9800 - val_loss: 0.1395 - val_accuracy: 0.9584\n",
      "Epoch 38/50\n",
      "782/782 [==============================] - 23s 30ms/step - loss: 0.0638 - accuracy: 0.9829 - val_loss: 0.1477 - val_accuracy: 0.9564\n",
      "Epoch 39/50\n",
      "782/782 [==============================] - 23s 30ms/step - loss: 0.0627 - accuracy: 0.9846 - val_loss: 0.1431 - val_accuracy: 0.9552\n",
      "Epoch 40/50\n",
      "782/782 [==============================] - 23s 30ms/step - loss: 0.0588 - accuracy: 0.9852 - val_loss: 0.1313 - val_accuracy: 0.9616\n",
      "Epoch 41/50\n",
      "782/782 [==============================] - 23s 30ms/step - loss: 0.0580 - accuracy: 0.9854 - val_loss: 0.1289 - val_accuracy: 0.9624\n",
      "Epoch 42/50\n",
      "782/782 [==============================] - 23s 30ms/step - loss: 0.0593 - accuracy: 0.9855 - val_loss: 0.1358 - val_accuracy: 0.9595\n",
      "Epoch 43/50\n",
      "782/782 [==============================] - 23s 30ms/step - loss: 0.0593 - accuracy: 0.9849 - val_loss: 0.1249 - val_accuracy: 0.9650\n",
      "Epoch 44/50\n",
      "782/782 [==============================] - 23s 30ms/step - loss: 0.0571 - accuracy: 0.9853 - val_loss: 0.1228 - val_accuracy: 0.9655\n",
      "Epoch 45/50\n",
      "782/782 [==============================] - 24s 31ms/step - loss: 0.0496 - accuracy: 0.9894 - val_loss: 0.1149 - val_accuracy: 0.9688\n",
      "Epoch 46/50\n",
      "782/782 [==============================] - 23s 30ms/step - loss: 0.0505 - accuracy: 0.9884 - val_loss: 0.1434 - val_accuracy: 0.9556\n",
      "Epoch 47/50\n",
      "782/782 [==============================] - 23s 30ms/step - loss: 0.0476 - accuracy: 0.9881 - val_loss: 0.1257 - val_accuracy: 0.9633\n",
      "Epoch 48/50\n",
      "782/782 [==============================] - 24s 31ms/step - loss: 0.0569 - accuracy: 0.9849 - val_loss: 0.1107 - val_accuracy: 0.9717\n",
      "Epoch 49/50\n",
      "782/782 [==============================] - 23s 30ms/step - loss: 0.0408 - accuracy: 0.9915 - val_loss: 0.1983 - val_accuracy: 0.9364\n",
      "Epoch 50/50\n",
      "782/782 [==============================] - 23s 30ms/step - loss: 0.0480 - accuracy: 0.9888 - val_loss: 0.1024 - val_accuracy: 0.9744\n"
     ]
    },
    {
     "data": {
      "text/plain": [
       "<keras.src.callbacks.History at 0x2de9a3cba90>"
      ]
     },
     "execution_count": 63,
     "metadata": {},
     "output_type": "execute_result"
    }
   ],
   "source": [
    "#lần 1 thử\n",
    "sq.fit(X_train, y_train, epochs=50, batch_size=32, validation_data=(X_test, y_test))"
   ]
  },
  {
   "cell_type": "code",
   "execution_count": null,
   "id": "e1eae195-2c58-4a5e-9e1f-afd8d68af1d7",
   "metadata": {},
   "outputs": [],
   "source": [
    "#note \n",
    "#với mô hình epoch 10 và batch_size 32\n",
    "#thay đổi optimizer\n",
    "# Adam : cao nhất 58%\n",
    "# SGD : cao nhất 59%\n",
    "# RMSprop : loss: 0.8070 - accuracy: 0.6414 - val_loss: 0.8570 - val_accuracy: 0.6122\n",
    "# Adagrad : loss: 0.7536 - accuracy: 0.6763 - val_loss: 0.8311 - val_accuracy: 0.6343\n",
    "# Adadelta : loss: 0.7523 - accuracy: 0.6769 - val_loss: 0.8310 - val_accuracy: 0.6346 Thằng này với thằng trên tuy cao nhưng hầu như không thay đổi kể từ lần train thứ 5\n",
    "# Nadam : loss: 0.6641 - accuracy: 0.7106 - val_loss: 0.7416 - val_accuracy: 0.6783 => tiềm năng nên chọn\n",
    "\n",
    "# => chọn optimizer nadam và train cho tới khi có accuracy cao nhất \n",
    "#epoch 20 và batch size 64: loss: 0.4908 - accuracy: 0.8004 - val_loss: 0.6329 - val_accuracy: 0.7330 tuy cao nhưng có vẻ tập train và val có vẻ khá chênh lệch nên giảm batch size xuống\n",
    "#epoch 20 và batch size 32: loss: 0.2807 - accuracy: 0.8994 - val_loss: 0.3767 - val_accuracy: 0.8578 con số khá tốt tiếp tục nâng epoch và train cho tới khi có kết quả tốt nhất\n",
    "#epoch 50 và batch size 32:\n",
    "#Epoch 49/50\n",
    "#782/782 [==============================] - 23s 30ms/step - loss: 0.0408 - accuracy: 0.9915 - val_loss: 0.1983 - val_accuracy: 0.9364\n",
    "#Epoch 50/50\n",
    "#782/782 [==============================] - 23s 30ms/step - loss: 0.0480 - accuracy: 0.9888 - val_loss: 0.1024 - val_accuracy: 0.9744\n",
    "#trước đó có 1 cái bị overfitting nên chắc dừng được rồi"
   ]
  },
  {
   "cell_type": "code",
   "execution_count": 64,
   "id": "8af8edf6-7836-48a9-b481-31f3423a1ac0",
   "metadata": {},
   "outputs": [
    {
     "name": "stdout",
     "output_type": "stream",
     "text": [
      "INFO:tensorflow:Assets written to: poker_hand_model\\assets\n"
     ]
    },
    {
     "name": "stderr",
     "output_type": "stream",
     "text": [
      "INFO:tensorflow:Assets written to: poker_hand_model\\assets\n"
     ]
    }
   ],
   "source": [
    "from tensorflow.keras.models import save_model\n",
    "\n",
    "# Lưu mô hình\n",
    "sq.save('poker_hand_model')"
   ]
  },
  {
   "cell_type": "code",
   "execution_count": null,
   "id": "405361c2-1903-40c8-b7ee-cfe7f018fc86",
   "metadata": {},
   "outputs": [],
   "source": [
    "#Do là bài này data không cần phải xử lý nhiều nên em làm thêm deploy "
   ]
  },
  {
   "cell_type": "code",
   "execution_count": 25,
   "id": "b51deea3-0958-47db-8086-a2b032f8ba8f",
   "metadata": {},
   "outputs": [
    {
     "name": "stdout",
     "output_type": "stream",
     "text": [
      "WARNING:tensorflow:From C:\\Users\\Thien Phuc\\AppData\\Local\\Programs\\Python\\Python311\\Lib\\site-packages\\keras\\src\\losses.py:2976: The name tf.losses.sparse_softmax_cross_entropy is deprecated. Please use tf.compat.v1.losses.sparse_softmax_cross_entropy instead.\n",
      "\n",
      "WARNING:tensorflow:From C:\\Users\\Thien Phuc\\AppData\\Local\\Programs\\Python\\Python311\\Lib\\site-packages\\keras\\src\\saving\\legacy\\saved_model\\load.py:107: The name tf.gfile.Exists is deprecated. Please use tf.io.gfile.exists instead.\n",
      "\n",
      "WARNING:tensorflow:From C:\\Users\\Thien Phuc\\AppData\\Local\\Programs\\Python\\Python311\\Lib\\site-packages\\keras\\src\\utils\\tf_utils.py:585: The name tf.executing_eagerly_outside_functions is deprecated. Please use tf.compat.v1.executing_eagerly_outside_functions instead.\n",
      "\n"
     ]
    }
   ],
   "source": [
    "#load model đã save\n",
    "from tensorflow.keras.models import load_model\n",
    "poker_model = load_model('poker_hand_model')"
   ]
  },
  {
   "cell_type": "code",
   "execution_count": 27,
   "id": "2613b440-bafa-42e2-b17e-98ca99a1b66b",
   "metadata": {},
   "outputs": [],
   "source": [
    "#Tạo hàm lấy input\n",
    "def get_card_info(number,card_info,check_duplicates):\n",
    "    while True:\n",
    "        print('==========================================================')\n",
    "        while True:\n",
    "            print('1:Cơ \\n2:Bích \\n3:Rô \\n4:Chuồng')\n",
    "            type = int(input(f'Chọn loại bài cho lá thứ {number}:'))\n",
    "            if type >=1 and type <=4:\n",
    "                break\n",
    "            else:\n",
    "                print('Không hợp lệ vui lòng nhập lại')\n",
    "                continue\n",
    "        print('==========================================================')\n",
    "        while True:\n",
    "            print('1: A \\n|\\n13: K')\n",
    "            value = int(input(f'Chọn giá trị bài cho lá thứ {number}:'))\n",
    "            if type >=1 and type <=13:\n",
    "                break\n",
    "            else:\n",
    "                print('Không hợp lệ vui lòng nhập lại')\n",
    "                continue\n",
    "        if any(item == (type, value) for item in check_duplicates.items()):\n",
    "            print('Lá bài đã trùng, vui lòng nhập lại')\n",
    "            continue\n",
    "        else:\n",
    "            card_info[f'Rank of card #{number}'] = [value]\n",
    "            card_info[f'Suit of card #{number}'] = [type]\n",
    "            check_duplicates.update({type : value})\n",
    "            break"
   ]
  },
  {
   "cell_type": "code",
   "execution_count": 9,
   "id": "50119de0-9aa0-4ed6-a785-1576652ec910",
   "metadata": {},
   "outputs": [],
   "source": [
    "def num_to_text(number):\n",
    "    texts = ['Không có gì', 'Có 1 đôi','Có 2 đôi','Có 3 lá', 'Có Sảnh', 'Có Thùng','Có cù lũ', 'Có Tứ Quý', 'Có Sảnh Đồng Chất','Có Thùng Phá Sảnh']\n",
    "    return texts[number]"
   ]
  },
  {
   "cell_type": "code",
   "execution_count": 28,
   "id": "83a23440-c2ed-410f-a108-28ae9a3c03d2",
   "metadata": {},
   "outputs": [
    {
     "name": "stdout",
     "output_type": "stream",
     "text": [
      "==========================================================\n",
      "1:Cơ \n",
      "2:Bích \n",
      "3:Rô \n",
      "4:Chuồng\n"
     ]
    },
    {
     "name": "stdin",
     "output_type": "stream",
     "text": [
      "Chọn loại bài cho lá thứ 1: 1\n"
     ]
    },
    {
     "name": "stdout",
     "output_type": "stream",
     "text": [
      "==========================================================\n",
      "1: A \n",
      "|\n",
      "13: K\n"
     ]
    },
    {
     "name": "stdin",
     "output_type": "stream",
     "text": [
      "Chọn giá trị bài cho lá thứ 1: 1\n"
     ]
    },
    {
     "name": "stdout",
     "output_type": "stream",
     "text": [
      "==========================================================\n",
      "1:Cơ \n",
      "2:Bích \n",
      "3:Rô \n",
      "4:Chuồng\n"
     ]
    },
    {
     "name": "stdin",
     "output_type": "stream",
     "text": [
      "Chọn loại bài cho lá thứ 2: 2\n"
     ]
    },
    {
     "name": "stdout",
     "output_type": "stream",
     "text": [
      "==========================================================\n",
      "1: A \n",
      "|\n",
      "13: K\n"
     ]
    },
    {
     "name": "stdin",
     "output_type": "stream",
     "text": [
      "Chọn giá trị bài cho lá thứ 2: 8\n"
     ]
    },
    {
     "name": "stdout",
     "output_type": "stream",
     "text": [
      "==========================================================\n",
      "1:Cơ \n",
      "2:Bích \n",
      "3:Rô \n",
      "4:Chuồng\n"
     ]
    },
    {
     "name": "stdin",
     "output_type": "stream",
     "text": [
      "Chọn loại bài cho lá thứ 3: 3\n"
     ]
    },
    {
     "name": "stdout",
     "output_type": "stream",
     "text": [
      "==========================================================\n",
      "1: A \n",
      "|\n",
      "13: K\n"
     ]
    },
    {
     "name": "stdin",
     "output_type": "stream",
     "text": [
      "Chọn giá trị bài cho lá thứ 3: 4\n"
     ]
    },
    {
     "name": "stdout",
     "output_type": "stream",
     "text": [
      "==========================================================\n",
      "1:Cơ \n",
      "2:Bích \n",
      "3:Rô \n",
      "4:Chuồng\n"
     ]
    },
    {
     "name": "stdin",
     "output_type": "stream",
     "text": [
      "Chọn loại bài cho lá thứ 4: 1\n"
     ]
    },
    {
     "name": "stdout",
     "output_type": "stream",
     "text": [
      "==========================================================\n",
      "1: A \n",
      "|\n",
      "13: K\n"
     ]
    },
    {
     "name": "stdin",
     "output_type": "stream",
     "text": [
      "Chọn giá trị bài cho lá thứ 4: 5\n"
     ]
    },
    {
     "name": "stdout",
     "output_type": "stream",
     "text": [
      "==========================================================\n",
      "1:Cơ \n",
      "2:Bích \n",
      "3:Rô \n",
      "4:Chuồng\n"
     ]
    },
    {
     "name": "stdin",
     "output_type": "stream",
     "text": [
      "Chọn loại bài cho lá thứ 5: 2\n"
     ]
    },
    {
     "name": "stdout",
     "output_type": "stream",
     "text": [
      "==========================================================\n",
      "1: A \n",
      "|\n",
      "13: K\n"
     ]
    },
    {
     "name": "stdin",
     "output_type": "stream",
     "text": [
      "Chọn giá trị bài cho lá thứ 5: 9\n"
     ]
    },
    {
     "name": "stdout",
     "output_type": "stream",
     "text": [
      "1/1 [==============================] - 0s 31ms/step\n",
      "==========================================================\n",
      "Dự Đoán: Có 1 đôi\n",
      "==========================================================\n"
     ]
    },
    {
     "name": "stderr",
     "output_type": "stream",
     "text": [
      "C:\\Users\\Thien Phuc\\AppData\\Local\\Temp\\ipykernel_18200\\2155047313.py:14: DeprecationWarning: Conversion of an array with ndim > 0 to a scalar is deprecated, and will error in future. Ensure you extract a single element from your array before performing this operation. (Deprecated NumPy 1.25.)\n",
      "  print('Dự Đoán: ' + num_to_text(int(prediction)))\n"
     ]
    }
   ],
   "source": [
    "card_info = {}\n",
    "check_duplicates = {}\n",
    "get_card_info(1,card_info,check_duplicates)\n",
    "get_card_info(2,card_info,check_duplicates)\n",
    "get_card_info(3,card_info,check_duplicates)\n",
    "get_card_info(4,card_info,check_duplicates)\n",
    "get_card_info(5,card_info,check_duplicates)\n",
    "\n",
    "dfpredict = pd.DataFrame.from_dict(card_info)\n",
    "\n",
    "prediction = poker_model.predict(dfpredict)\n",
    "prediction = prediction.argmax(axis=-1)\n",
    "print('==========================================================')\n",
    "print('Dự Đoán: ' + num_to_text(int(prediction)))\n",
    "print('==========================================================')"
   ]
  },
  {
   "cell_type": "code",
   "execution_count": null,
   "id": "e1aa0722-d719-4784-9d21-05c6ce564ee6",
   "metadata": {},
   "outputs": [],
   "source": []
  }
 ],
 "metadata": {
  "kernelspec": {
   "display_name": "Python 3 (ipykernel)",
   "language": "python",
   "name": "python3"
  },
  "language_info": {
   "codemirror_mode": {
    "name": "ipython",
    "version": 3
   },
   "file_extension": ".py",
   "mimetype": "text/x-python",
   "name": "python",
   "nbconvert_exporter": "python",
   "pygments_lexer": "ipython3",
   "version": "3.11.7"
  }
 },
 "nbformat": 4,
 "nbformat_minor": 5
}
